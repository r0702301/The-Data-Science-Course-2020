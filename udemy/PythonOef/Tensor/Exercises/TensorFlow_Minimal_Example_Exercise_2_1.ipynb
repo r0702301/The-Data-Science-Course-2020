{
 "cells": [
  {
   "cell_type": "markdown",
   "metadata": {},
   "source": [
    "# Using the same code as before, please solve the following exercises\n",
    "\n",
    "    2. Play around with the learning rate. Values like 0.0001, 0.001, 0.1, 1 are all interesting to observe. \n",
    "    \n",
    "    \n",
    "Useful tip: When you change something, don't forget to RERUN all cells. This can be done easily by clicking:\n",
    "Kernel -> Restart & Run All\n",
    "If you don't do that, your algorithm will keep the OLD values of all parameters.\n",
    "\n",
    "## Solution\n",
    "\n",
    "Find the piece of code that chooses the optimization algorithm. Change the learning_rate argument to 0.0001.\n",
    "\n",
    "Here are some takeaways:\n",
    "1. It takes the algorithm the same time to finish working.\n",
    "2. The loss is not minimized.\n",
    "3. The weights and biases are far from what we want them to be (although that cannot be seen, as we didn't print them).\n",
    "4. More iterations are needed for this learning rate to solve the problem.\n",
    "5. The problem IS NOT SOLVED.\n",
    "6. The final graph looks like a 45-degree line, but look at the axes -> it is not."
   ]
  },
  {
   "cell_type": "markdown",
   "metadata": {},
   "source": [
    "### Import the relevant libraries"
   ]
  },
  {
   "cell_type": "code",
   "execution_count": 1,
   "metadata": {
    "collapsed": true
   },
   "outputs": [],
   "source": [
    "# We must always import the relevant libraries for our problem at hand. NumPy and TensorFlow are required for this example.\n",
    "import numpy as np\n",
    "import matplotlib.pyplot as plt\n",
    "import tensorflow as tf"
   ]
  },
  {
   "cell_type": "markdown",
   "metadata": {},
   "source": [
    "### Data generation\n",
    "\n",
    "We generate data using the exact same logic and code as the example from the previous notebook. The only difference now is that we save it to an npz file. Npz is numpy's file type which allows you to save numpy arrays into a single .npz file. We introduce this change because in machine learning most often: \n",
    "\n",
    "* you are given some data (csv, database, etc.)\n",
    "* you preprocess it into a desired format (later on we will see methods for preprocesing)\n",
    "* you save it into npz files (if you're working in Python) to access later\n",
    "\n",
    "Nothing to worry about - this is literally saving your NumPy arrays into a file that you can later access, nothing more."
   ]
  },
  {
   "cell_type": "code",
   "execution_count": 2,
   "metadata": {
    "collapsed": true
   },
   "outputs": [],
   "source": [
    "# First, we should declare a variable containing the size of the training set we want to generate.\n",
    "observations = 1000\n",
    "\n",
    "# We will work with two variables as inputs. You can think about them as x1 and x2 in our previous examples.\n",
    "# We have picked x and z, since it is easier to differentiate them.\n",
    "# We generate them randomly, drawing from an uniform distribution. There are 3 arguments of this method (low, high, size).\n",
    "# The size of xs and zs is observations x 1. In this case: 1000 x 1.\n",
    "xs = np.random.uniform(low=-10, high=10, size=(observations,1))\n",
    "zs = np.random.uniform(-10, 10, (observations,1))\n",
    "\n",
    "# Combine the two dimensions of the input into one input matrix. \n",
    "# This is the X matrix from the linear model y = x*w + b.\n",
    "# column_stack is a Numpy method, which combines two matrices (vectors) into one.\n",
    "generated_inputs = np.column_stack((xs,zs))\n",
    "\n",
    "# We add a random small noise to the function i.e. f(x,z) = 2x - 3z + 5 + <small noise>\n",
    "noise = np.random.uniform(-1, 1, (observations,1))\n",
    "\n",
    "# Produce the targets according to our f(x,z) = 2x - 3z + 5 + noise definition.\n",
    "# In this way, we are basically saying: the weights should be 2 and -3, while the bias is 5.\n",
    "generated_targets = 2*xs - 3*zs + 5 + noise\n",
    "\n",
    "# save into an npz file called \"TF_intro\"\n",
    "np.savez('TF_intro', inputs=generated_inputs, targets=generated_targets)"
   ]
  },
  {
   "cell_type": "markdown",
   "metadata": {},
   "source": [
    "## Solving with TensorFlow\n",
    "\n",
    "<i/>Note: This intro is just the basics of TensorFlow which has way more capabilities and depth than that.<i>"
   ]
  },
  {
   "cell_type": "code",
   "execution_count": 3,
   "metadata": {
    "collapsed": false
   },
   "outputs": [],
   "source": [
    "# The shape of the data we've prepared above. Think about it as: number of inputs, number of outputs.\n",
    "input_size = 2\n",
    "output_size = 1"
   ]
  },
  {
   "cell_type": "markdown",
   "metadata": {},
   "source": [
    "### Outlining the model"
   ]
  },
  {
   "cell_type": "code",
   "execution_count": 4,
   "metadata": {
    "collapsed": false
   },
   "outputs": [],
   "source": [
    "# Here we define a basic TensorFlow object - the placeholder.\n",
    "# As before, we will feed the inputs and targets to the model. \n",
    "# In the TensorFlow context, we feed the data to the model THROUGH the placeholders. \n",
    "# The particular inputs and targets are contained in our .npz file.\n",
    "\n",
    "# The first None parameter of the placeholders' shape means that\n",
    "# this dimension could be of any length. That's since we are mainly interested in\n",
    "# the input size, i.e. how many input variables we have and not the number of samples (observations)\n",
    "# The number of input variables changes the MODEL itself, while the number of observations doesn't.\n",
    "# Remember that the weights and biases were independent of the number of samples, so the MODEL is independent.\n",
    "# Important: NO calculation happens at this point.\n",
    "inputs = tf.placeholder(tf.float32, [None, input_size])\n",
    "targets = tf.placeholder(tf.float32, [None, output_size])\n",
    "\n",
    "# As before, we define our weights and biases.\n",
    "# They are the other basic TensorFlow object - a variable.\n",
    "# We feed data into placeholders and they have a different value for each iteration\n",
    "# Variables, however, preserve their values across iterations.\n",
    "# To sum up, data goes into placeholders; parameters go into variables.\n",
    "\n",
    "# We use the same random uniform initialization in [-0.1,0.1] as in the minimal example but using the TF syntax\n",
    "# Important: NO calculation happens at this point.\n",
    "weights = tf.Variable(tf.random_uniform([input_size, output_size], minval=-0.1, maxval=0.1))\n",
    "biases = tf.Variable(tf.random_uniform([output_size], minval=-0.1, maxval=0.1))\n",
    "\n",
    "# We get the outputs following our linear combination: y = xw + b\n",
    "# Important: NO calculation happens at this point.\n",
    "# This line simply tells TensorFlow what rule to apply when we feed in the training data (below).\n",
    "outputs = tf.matmul(inputs, weights) + biases"
   ]
  },
  {
   "cell_type": "markdown",
   "metadata": {},
   "source": [
    "### Choosing the objective function and the optimization method"
   ]
  },
  {
   "cell_type": "code",
   "execution_count": 5,
   "metadata": {
    "collapsed": false
   },
   "outputs": [],
   "source": [
    "# Again, we use a loss function, this time readily available, though.\n",
    "# mean_squared_error is the scaled L2-norm (per observation)\n",
    "# We divide by two to follow our earlier definitions. That doesn't really change anything.\n",
    "mean_loss = tf.losses.mean_squared_error(labels=targets, predictions=outputs) / 2.\n",
    "\n",
    "# Note that there also exists a function tf.nn.l2_loss. \n",
    "# tf.nn.l2_loss calculates the loss over all samples, instead of the average loss per sample.\n",
    "# Practically it's the same, a matter of preference.\n",
    "# The difference would be a smaller or larger learning rate to achieve the exact same result.\n",
    "\n",
    "# Instead of implementing Gradient Descent on our own, in TensorFlow we can simply state\n",
    "# \"Minimize the mean loss by using Gradient Descent with a given learning rate\"\n",
    "# Simple as that.\n",
    "optimize = tf.train.GradientDescentOptimizer(learning_rate=0.0001).minimize(mean_loss)"
   ]
  },
  {
   "cell_type": "markdown",
   "metadata": {},
   "source": [
    "### Prepare for execution"
   ]
  },
  {
   "cell_type": "code",
   "execution_count": 6,
   "metadata": {
    "collapsed": true
   },
   "outputs": [],
   "source": [
    "# So far we've defined the placeholders, variables, the loss function and the optimization method.\n",
    "# We have the structure for training, but we haven't trained anything yet.\n",
    "# The actual training (and subsequent implementation of the ML algorithm) happens inside sessions.\n",
    "sess = tf.InteractiveSession()"
   ]
  },
  {
   "cell_type": "markdown",
   "metadata": {},
   "source": [
    "### Initializing variables"
   ]
  },
  {
   "cell_type": "code",
   "execution_count": 7,
   "metadata": {
    "collapsed": true
   },
   "outputs": [],
   "source": [
    "# Before we start training, we need to initialize our variables: the weights and biases.\n",
    "# There is a specific method for initializing called global_variables_initializer().\n",
    "# Let's declare a variable \"initializer\" that will do that.\n",
    "initializer = tf.global_variables_initializer()\n",
    "\n",
    "# Time to initialize the variables.\n",
    "sess.run(initializer)"
   ]
  },
  {
   "cell_type": "markdown",
   "metadata": {},
   "source": [
    "### Loading training data"
   ]
  },
  {
   "cell_type": "code",
   "execution_count": 8,
   "metadata": {
    "collapsed": true
   },
   "outputs": [],
   "source": [
    "# We finally load the training data we created above.\n",
    "training_data = np.load('TF_intro.npz')"
   ]
  },
  {
   "cell_type": "markdown",
   "metadata": {},
   "source": [
    "### Learning"
   ]
  },
  {
   "cell_type": "code",
   "execution_count": 9,
   "metadata": {
    "collapsed": false
   },
   "outputs": [
    {
     "name": "stdout",
     "output_type": "stream",
     "text": [
      "229.662\n",
      "228.224\n",
      "226.795\n",
      "225.376\n",
      "223.966\n",
      "222.565\n",
      "221.174\n",
      "219.791\n",
      "218.418\n",
      "217.054\n",
      "215.699\n",
      "214.353\n",
      "213.016\n",
      "211.687\n",
      "210.367\n",
      "209.056\n",
      "207.754\n",
      "206.46\n",
      "205.175\n",
      "203.898\n",
      "202.63\n",
      "201.37\n",
      "200.119\n",
      "198.875\n",
      "197.64\n",
      "196.413\n",
      "195.194\n",
      "193.983\n",
      "192.78\n",
      "191.586\n",
      "190.398\n",
      "189.219\n",
      "188.048\n",
      "186.884\n",
      "185.728\n",
      "184.58\n",
      "183.439\n",
      "182.305\n",
      "181.18\n",
      "180.061\n",
      "178.95\n",
      "177.847\n",
      "176.75\n",
      "175.661\n",
      "174.579\n",
      "173.504\n",
      "172.436\n",
      "171.375\n",
      "170.322\n",
      "169.275\n",
      "168.235\n",
      "167.202\n",
      "166.176\n",
      "165.156\n",
      "164.144\n",
      "163.138\n",
      "162.138\n",
      "161.145\n",
      "160.159\n",
      "159.179\n",
      "158.206\n",
      "157.239\n",
      "156.279\n",
      "155.324\n",
      "154.376\n",
      "153.435\n",
      "152.499\n",
      "151.57\n",
      "150.647\n",
      "149.73\n",
      "148.819\n",
      "147.914\n",
      "147.015\n",
      "146.122\n",
      "145.234\n",
      "144.353\n",
      "143.477\n",
      "142.608\n",
      "141.744\n",
      "140.885\n",
      "140.032\n",
      "139.185\n",
      "138.344\n",
      "137.508\n",
      "136.677\n",
      "135.852\n",
      "135.033\n",
      "134.219\n",
      "133.41\n",
      "132.607\n",
      "131.808\n",
      "131.015\n",
      "130.228\n",
      "129.445\n",
      "128.668\n",
      "127.896\n",
      "127.129\n",
      "126.367\n",
      "125.61\n",
      "124.857\n"
     ]
    }
   ],
   "source": [
    "# As in the previous example, we train for a set number (100) of iterations over the dataset\n",
    "for i in range(100):\n",
    "    # This expression is a bit more complex but you'll learn to appreciate its power and\n",
    "    # flexibility in the following lessons.\n",
    "    # sess.run is the session's function to actually do something, anything.\n",
    "    # Above, we used it to initialize the variables.\n",
    "    # Here, we use it to feed the training data to the computational graph, defined by the feed_dict parameter\n",
    "    # and run operations (already defined above), given as the first parameter (optimize, mean_loss).\n",
    "    \n",
    "    # So the line of code means: \"Run the optimize and mean_loss operations by filling the placeholder\n",
    "    # objects with data from the feed_dict parameter\".\n",
    "    # Curr_loss catches the output from the two operations.\n",
    "    # Using \"_,\" we omit the first one, because optimize has no output (it's always \"None\"). \n",
    "    # The second one catches the value of the mean_loss for the current run, thus curr_loss actually = mean_loss \n",
    "    _, curr_loss = sess.run([optimize, mean_loss], \n",
    "        feed_dict={inputs: training_data['inputs'], targets: training_data['targets']})\n",
    "    \n",
    "    # We print the current average loss\n",
    "    print(curr_loss)"
   ]
  },
  {
   "cell_type": "markdown",
   "metadata": {},
   "source": [
    "### Plotting the data"
   ]
  },
  {
   "cell_type": "code",
   "execution_count": 10,
   "metadata": {
    "collapsed": false
   },
   "outputs": [
    {
     "data": {
      "image/png": "[encoded data removed]",
      "text/plain": [
       "<matplotlib.figure.Figure at 0x207e8990be0>"
      ]
     },
     "metadata": {},
     "output_type": "display_data"
    }
   ],
   "source": [
    "# As before, we want to plot the last output vs targets after the training is supposedly over.\n",
    "# Same notation as above but this time we don't want to train anymore, and we are not interested\n",
    "# in the loss function value.\n",
    "# What we want, however, are the outputs. \n",
    "# Therefore, instead of the optimize and mean_loss operations, we pass the \"outputs\" as the only parameter.\n",
    "out = sess.run([outputs], \n",
    "               feed_dict={inputs: training_data['inputs']})\n",
    "# The model is optimized, so the outputs are calculated based on the last form of the model\n",
    "\n",
    "# We have to np.squeeze the arrays in order to fit them to what the plot function expects.\n",
    "# Doesn't change anything as we cut dimensions of size 1 - just a technicality.\n",
    "plt.plot(np.squeeze(out), np.squeeze(training_data['targets']))\n",
    "plt.xlabel('outputs')\n",
    "plt.ylabel('targets')\n",
    "plt.show()\n",
    "        \n",
    "# Voila - what you see should be exactly the same as in the previous notebook!\n",
    "# You probably don't see the point of TensorFlow now - it took us more lines of code\n",
    "# to achieve this simple result. However, once we go deeper in the next chapter,\n",
    "# TensorFlow will save us hundreds of lines of code."
   ]
  }
 ],
 "metadata": {
  "kernelspec": {
   "display_name": "Python 3",
   "language": "python",
   "name": "python3"
  },
  "language_info": {
   "codemirror_mode": {
    "name": "ipython",
    "version": 3
   },
   "file_extension": ".py",
   "mimetype": "text/x-python",
   "name": "python",
   "nbconvert_exporter": "python",
   "pygments_lexer": "ipython3",
   "version": "3.6.2"
  }
 },
 "nbformat": 4,
 "nbformat_minor": 2
}
